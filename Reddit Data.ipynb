{
 "cells": [
  {
   "cell_type": "markdown",
   "metadata": {},
   "source": [
    "### Query to get authors/commenters and counts where the subreddit = 'bigquery'"
   ]
  },
  {
   "cell_type": "code",
   "execution_count": null,
   "metadata": {
    "collapsed": true
   },
   "outputs": [],
   "source": []
  },
  {
   "cell_type": "markdown",
   "metadata": {
    "collapsed": false
   },
   "source": [
    "# How to select 10 subreddit's to analyze. \n",
    "\n",
    "select subreddit_id, count(unique(author)) as author_count\n",
    "from [fh-bigquery:reddit_comments.2015_11]\n",
    "group by subreddit_id\n",
    "having author_count > 100 and author_count < 10000\n",
    "order by 2 desc\n",
    "limit 10\n",
    "\n",
    "\n",
    "\n"
   ]
  },
  {
   "cell_type": "markdown",
   "metadata": {},
   "source": [
    "subreddit_id\n",
    "(t5_2rmfx\n",
    "t5_2ul7u\n",
    "t5_2u3ta\n",
    "t5_2r05i\n",
    "t5_2qka0\n",
    "t5_2yuej\n",
    "t5_2qioo\n",
    "t5_2qhqb\n",
    "t5_2qh53\n",
    "t5_2stl8"
   ]
  },
  {
   "cell_type": "code",
   "execution_count": null,
   "metadata": {
    "collapsed": true
   },
   "outputs": [],
   "source": [
    "# subreddits per author within the 10 subreddits. \n",
    "\n",
    "#Table : AUTHOR | COUNT\n",
    "\n",
    "SELECT author, count(unique(subreddit)) as count_subs\n",
    "FROM [fh-bigquery:reddit_comments.2015_05]\n",
    "where subreddit_id in ('t5_2rmfx','t5_2ul7u','t5_2u3ta','t5_2r05i','t5_2qka0','t5_2yuej','t5_2qioo','t5_2qhqb','t5_2qh53','t5_2stl8')\n",
    "group by author\n",
    "having count_subs > 2"
   ]
  },
  {
   "cell_type": "code",
   "execution_count": null,
   "metadata": {
    "collapsed": true
   },
   "outputs": [],
   "source": [
    "# Returns AUTHOR | SUBREDDIT. \n",
    "SELECT author, subreddit\n",
    "FROM [fh-bigquery:reddit_comments.2015_05]\n",
    "where subreddit_id in ('t5_2rmfx','t5_2ul7u','t5_2u3ta','t5_2r05i','t5_2qka0','t5_2yuej','t5_2qioo','t5_2qhqb','t5_2qh53','t5_2stl8')\n",
    "group by author, subreddit\n",
    "\n"
   ]
  },
  {
   "cell_type": "markdown",
   "metadata": {
    "collapsed": true
   },
   "source": [
    "# TO DO. \n",
    "\n",
    "1. JOIN TABLE OF AUTHOR | SUBREDDIT TO ITSELFT TO CREATE:\n",
    "    \n",
    "    AUTHOR1 | AUTHOR2 | SUBREDDIT AND \n",
    "    \n",
    "2. RETURN JACAARD SIMILARITY. \n",
    "\n",
    "FOR EVERY PAIR OF AUTHORS... \n",
    "AUTHOR1 | AUTHOR2 | INTERSECTION | UNION | JACAARD.  \n",
    "\n",
    "WHERE\n",
    "\n",
    "@INTERSECTION = COUNT OF (AUTHOR1 | AUTHOR2 | SUBREDDIT )\n",
    "\n",
    "@UNION = COUNT(AUTHOR1)+COUNT(AUTHOR2) - INTERSECTION. \n",
    "\n",
    "@JACAARD = INTERSECTION / UNION. \n",
    "\n"
   ]
  },
  {
   "cell_type": "code",
   "execution_count": null,
   "metadata": {
    "collapsed": true
   },
   "outputs": [],
   "source": [
    "# Returns AUTHOR1 | Author2 | intersection | subreddits_author1 | subreddits_author1 | union | jaccard_similarity\n",
    "\n",
    "\n",
    "# this is currently NOT working. PROBLEM Resources are exceed. \n",
    "\n",
    "select author1,author2, intersection, \n",
    "num_subreddit_author1,num_subreddit_author2,\n",
    "(num_subreddit_author1+num_subreddit_author2)-intersection as union,\n",
    "intersection/union as jaccard_similarity\n",
    "from (\n",
    "    select \n",
    "    author1,author2,count(distinct subreddit) as intersection,\n",
    "\n",
    "    from (\n",
    "        SELECT a.author as author1, b.author as author2, a.subreddit as subreddit\n",
    "        FROM FLATTEN((\n",
    "          SELECT UNIQUE(author) author, subreddit\n",
    "          FROM [fh-bigquery:reddit_comments.2015_05]\n",
    "          WHERE subreddit_id IN ('t5_2rmfx','t5_2ul7u','t5_2u3ta','t5_2r05i','t5_2qka0','t5_2yuej','t5_2qioo','t5_2qhqb','t5_2qh53','t5_2stl8')\n",
    "           GROUP BY 2\n",
    "        ),author) a\n",
    "        left join \n",
    "        (FLATTEN((\n",
    "          SELECT UNIQUE(author) author, subreddit\n",
    "          FROM [fh-bigquery:reddit_comments.2015_05]\n",
    "          WHERE subreddit_id IN ('t5_2rmfx','t5_2ul7u','t5_2u3ta','t5_2r05i','t5_2qka0','t5_2yuej','t5_2qioo','t5_2qhqb','t5_2qh53','t5_2stl8')\n",
    "           GROUP BY 2\n",
    "        ),author)) b on a.subreddit == b.subreddit \n",
    "        limit 10000000\n",
    "     )\n",
    "     group by 1,2\n",
    "     having count(distinct subreddit) > 2\n",
    "  limit 1000) a1a2\n",
    "left join \n",
    "  (SELECT author, count(unique(subreddit)) as num_subreddit_author1\n",
    "  FROM [fh-bigquery:reddit_comments.2015_05]\n",
    "  WHERE subreddit_id IN ('t5_2rmfx','t5_2ul7u','t5_2u3ta','t5_2r05i','t5_2qka0','t5_2yuej','t5_2qioo','t5_2qhqb','t5_2qh53','t5_2stl8')\n",
    "  group by author\n",
    "  having num_subreddit_author1 >2) a1sub\n",
    "on (a1a2.author1==a1sub.author)\n",
    "left join \n",
    "  (SELECT author, count(unique(subreddit)) as num_subreddit_author2\n",
    "  FROM [fh-bigquery:reddit_comments.2015_05]\n",
    "  WHERE subreddit_id IN ('t5_2rmfx','t5_2ul7u','t5_2u3ta','t5_2r05i','t5_2qka0','t5_2yuej','t5_2qioo','t5_2qhqb','t5_2qh53','t5_2stl8')\n",
    "  group by author\n",
    "  having num_subreddit_author2 >2) a2sub\n",
    "on (a1a2.author2==a2sub.author)\n",
    "limit 5\n"
   ]
  },
  {
   "cell_type": "code",
   "execution_count": null,
   "metadata": {
    "collapsed": true
   },
   "outputs": [],
   "source": [
    "I need to calculate the total number of subreddits that either authors belongs too. \n",
    "\n",
    "The table looks like: Author1 | author2 | subreddit \n",
    "\n",
    "... \n",
    "\n",
    "the correct output should be : author1 | author2 | count_intersection_of_subreddits| count_union_of_subreddits "
   ]
  }
 ],
 "metadata": {
  "kernelspec": {
   "display_name": "Python 2",
   "language": "python",
   "name": "python2"
  },
  "language_info": {
   "codemirror_mode": {
    "name": "ipython",
    "version": 2
   },
   "file_extension": ".py",
   "mimetype": "text/x-python",
   "name": "python",
   "nbconvert_exporter": "python",
   "pygments_lexer": "ipython2",
   "version": "2.7.11"
  }
 },
 "nbformat": 4,
 "nbformat_minor": 0
}
